{
 "cells": [
  {
   "cell_type": "code",
   "execution_count": 2,
   "metadata": {
    "collapsed": true
   },
   "outputs": [],
   "source": [
    "#!conda install -y spacy \n",
    "#python -m spacy download en_core_web_lg\n",
    "import spacy\n",
    "import pickle\n",
    "import joblib\n",
    "\n",
    "nlp = spacy.load('en_core_web_lg')\n",
    "doc = nlp(u'This is a sentence.')"
   ]
  },
  {
   "cell_type": "code",
   "execution_count": 59,
   "metadata": {
    "collapsed": true
   },
   "outputs": [],
   "source": [
    "import re\n",
    "from collections import defaultdict"
   ]
  },
  {
   "cell_type": "code",
   "execution_count": 4,
   "metadata": {
    "collapsed": false
   },
   "outputs": [
    {
     "data": {
      "text/plain": [
       "'Apollo 11 was the spaceflight that landed the first two humans on the Moon. Mission commander Neil Armstrong and pilot Buzz Aldrin, both American, landed the lunar module Eagle on July 20, 1969, at 20:18 UTC. Armstrong became the first human to step onto the lunar surface six hours after landing on July 21 at 02:56:15 UTC; Aldrin joined him about 20 minutes later. They spent about two and a quarter hours together outside the spacecraft, and collected 47.5 pounds (21.5 kg) of lunar material to bring back to Earth. Michael Collins piloted the command module Columbia alone in lunar orbit while they were on the Moon\\'s surface. Armstrong and Aldrin spent just under a day on the lunar surface before rejoining Columbia in lunar orbit.\\n\\nApollo 11 was launched by a Saturn V rocket from Kennedy Space Center on Merritt Island, Florida, on July 16 at 9:32 am EDT (13:32 UTC) and was the fifth manned mission of NASA\\'s Apollo program. The Apollo spacecraft had three parts: a command module (CM) with a cabin for the three astronauts, and the only part that returned to Earth; a service module (SM), which supported the command module with propulsion, electrical power, oxygen, and water; and a lunar module (LM) that had two stages – a descent stage for landing on the Moon, and an ascent stage to place the astronauts back into lunar orbit.\\n\\nAfter being sent to the Moon by the Saturn V\\'s third stage, the astronauts separated the spacecraft from it and traveled for three days until they entered into lunar orbit. Armstrong and Aldrin then moved into the lunar module Eagle and landed in the Sea of Tranquility. They stayed a total of about 21.5 hours on the lunar surface. The astronauts used Eagle\\'s upper stage to lift off from the lunar surface and rejoin Collins in the command module. They jettisoned Eagle before they performed the maneuvers that blasted them out of lunar orbit on a trajectory back to Earth. They returned to Earth and splashed down in the Pacific Ocean on July 24 after more than eight days in space.\\n\\nThe landing was broadcast on live TV to a worldwide audience. Armstrong stepped onto the lunar surface and described the event as \"one small step for [a] man, one giant leap for mankind.\" Apollo 11 effectively ended the Space Race and fulfilled a national goal proposed in 1961 by U.S. President John F. Kennedy: \"before this decade is out, of landing a man on the Moon and returning him safely to the Earth.\"[6]\\nThe crew assignment of Neil Armstrong as Commander, Jim Lovell as Command Module Pilot (CMP) and Buzz Aldrin as Lunar Module Pilot (LMP) was officially announced on November 20, 1967.[7] Apollo 11 was the second all-veteran multi-person crew on an American mission,[8] the first being that of Apollo 10).[9] An all-veteran crew would not be flown again until STS-26 in 1988.[8] Lovell and Aldrin had previously flown together as the crew of Gemini 12. The crew was initially assigned as the backup for Apollo 9. Due to design and manufacturing delays in the Lunar Module (LM), Apollo 8 and Apollo 9 swapped prime and backup crews, and Armstrong\\'s crew became the backup for Apollo 8. Based on the normal crew rotation scheme, Armstrong was then expected to command Apollo 11.[10] There would be one change. Mike Collins on the Apollo 8 crew began experiencing trouble with his legs. Doctors diagnosed the problem as a bony growth between his fifth and sixth vertebrae, requiring surgery.[11] Lovell took his place on the Apollo 8 crew, and, when he recovered, Collins joined Armstrong\\'s crew as CMP. In the meantime, Fred Haise filled in as backup LMP, and Aldrin as backup CMP for Apollo 8.[12]\\n\\nThe backup crew consisted of Lovell as Commander), William Anders as CMP, and Haise as LMP. Anders had flown with Lovell on Apollo 8.[8] In early 1969, he accepted a job with the National Space Council effective August 1969 and announced that he would retire as an astronaut on that date. At that point Ken Mattingly was moved from the support crew into parallel training with Anders as backup CMP in case Apollo 11 was delayed past its intended July launch, at which point Anders would be unavailable. Lovell, Haise, and Mattingly would ultimately be assigned as the prime crew of Apollo 13.[13]\\nAfter the crew of Apollo 10 named their spacecraft Charlie Brown and Snoopy, assistant manager for public affairs Julian Scheer wrote to Manned Spacecraft Center director George M. Low to suggest the Apollo 11 crew be less flippant in naming their craft. During early mission planning, the names Snowcone and Haystack were used and put in the news release.[14]\\n\\nThe Command Module was named Columbia after the Columbiad, the giant cannon shell \"spacecraft\" fired by a giant cannon (also from Florida) in Jules Verne\\'s 1865 novel From the Earth to the Moon. It also referenced Columbia, a personification of the United States. The Lunar Module was named Eagle for the national bird of the United States, the bald eagle, which was featured prominently on the mission insignia.[15]\\nThe Apollo 11 mission insignia was designed by Collins, who wanted a symbol for \"peaceful lunar landing by the United States\". At Lovell\\'s suggestion, he chose an eagle as the symbol, put an olive branch in its beak, and drew a lunar background with the Earth in the distance. The sunlight in the image was coming from the wrong direction; the shadow should have been in the lower part of the Earth instead of the left. NASA officials felt that the talons of the eagle looked too \"warlike\" and after some discussion, the olive branch was moved to the claws. Armstrong was concerned that \"eleven\" would not be understood by non-English speakers, so they went with \"Apollo 11\";[16] they decided not to put their names on the patch, so it would \"be representative of everyone who had worked toward a lunar landing\".[17] All colors are natural, with blue and gold borders around the patch.[citation needed]\\n\\nWhen the Eisenhower dollar coin was released in 1971, the patch design provided the eagle for its reverse side.[18] The design was also used for the smaller Susan B. Anthony dollar unveiled in 1979, ten years after the Apollo 11 mission.[19]\\n\\nMementos\\nNeil Armstrong\\'s personal preference kit carried a piece of wood from the Wright brothers\\' 1903 airplane\\'s left propeller and a piece of fabric from its wing,[20] along with a diamond-studded astronaut pin originally given to Deke Slayton by the widows of the Apollo 1 crew. This pin had been intended to be flown on Apollo 1 and given to Slayton after the mission but following the disastrous launch pad fire and subsequent funerals, the widows gave the pin to Slayton and Armstrong took it on Apollo 11.[21]\\n\\nIn addition to many people crowding highways and beaches near the launch site, millions watched the event on television, with NASA Chief of Public Information Jack King providing commentary. President Richard M. Nixon viewed the proceedings from the Oval Office of the White House.[citation needed]\\n\\nA Saturn V launched Apollo 11 from Launch Pad 39A, part of the Launch Complex 39 site at the Kennedy Space Center on July 16, 1969, at 13:32:00 UTC (9:32:00 a.m. EDT local time). It entered Earth orbit, at an altitude of 100.4 nautical miles (185.9 km) by 98.9 nautical miles (183.2 km), twelve minutes later. After one and a half orbits, the S-IVB third-stage engine pushed the spacecraft onto its trajectory toward the Moon with the trans-lunar injection (TLI) burn at 16:22:13 UTC. About 30 minutes later, the transposition, docking, and extraction maneuver was performed: this involved separating the Apollo Command/Service Module (CSM) from the spent rocket stage, turning around, and docking with the Lunar Module still attached to the stage. After the Lunar Module was extracted, the combined spacecraft headed for the Moon, while the rocket stage flew on a trajectory past the Moon and into orbit around the Sun.[3]\\n\\nOn July 19 at 17:21:50 UTC, Apollo 11 passed behind the Moon and fired its service propulsion engine to enter lunar orbit. In the thirty orbits[22] that followed, the crew saw passing views of their landing site in the southern Sea of Tranquility (Mare Tranquillitatis) about 12 miles (19 km) southwest of the crater Sabine D (0.67408N, 23.47297E). The landing site was selected in part because it had been characterized as relatively flat and smooth by the automated Ranger 8 and Surveyor 5 landers along with the Lunar Orbiter mapping spacecraft and unlikely to present major landing or extravehicular activity (EVA) challenges.[23]\\n\\nOn July 20, 1969, the Lunar Module Eagle separated from the Command Module Columbia. Collins, alone aboard Columbia, inspected Eagle as it pirouetted before him to ensure the craft was not damaged.\\n\\nAs the descent began, Armstrong and Aldrin found that they were passing landmarks on the surface four seconds early and reported that they were \"long\"; they would land miles west of their target point.\\n\\nFive minutes into the descent burn, and 6,000 feet (1,800 m) above the surface of the Moon, the LM navigation and guidance computer distracted the crew with the first of several unexpected \"1202\" and \"1201\" program alarms. Inside Mission Control Center in Houston, Texas, computer engineer Jack Garman told guidance officer Steve Bales it was safe to continue the descent, and this was relayed to the crew. The program alarms indicated \"executive overflows\", meaning the guidance computer could not complete all of its tasks in real time and had to postpone some of them.[24]\\n\\nDue to an error in the checklist manual, the rendezvous radar switch was placed in the wrong position. This caused it to send erroneous signals to the computer. The result was that the computer was being asked to perform all of its normal functions for landing while receiving an extra load of spurious data which used up 15% of its time. The computer (or rather the software in it) was smart enough to recognize that it was being asked to perform more tasks than it should be performing. It then sent out an alarm, which meant to the astronaut, I\\'m overloaded with more tasks than I should be doing at this time and I\\'m going to keep only the more important tasks; i.e., the ones needed for landing ... Actually, the computer was programmed to do more than recognize error conditions. A complete set of recovery programs was incorporated into the software. The software\\'s action, in this case, was to eliminate lower priority tasks and re-establish the more important ones ... If the computer hadn\\'t recognized this problem and taken recovery action, I doubt if Apollo 11 would have been the successful moon landing it was.[25][a]\\n\\n—\\u2009Letter from Margaret H. Hamilton, Director of Apollo Flight Computer Programming MIT Draper Laboratory, Cambridge, Massachusetts[29], titled \"Computer Got Loaded\", published in Datamation, March 1, 1971\\n\\nWhen Armstrong again looked outside, he saw that the computer\\'s landing target was in a boulder-strewn area just north and east of a 300-meter (980 ft) diameter crater (later determined to be West crater, named for its location in the western part of the originally planned landing ellipse). Armstrong took semi-automatic control[30] and, with Aldrin calling out altitude and velocity data, landed at 20:17:40 UTC on Sunday July 20 with about 25 seconds of fuel left.[4]\\n\\nApollo 11 landed with less fuel than other missions, and the astronauts encountered a premature low fuel warning. This was later found to be the result of greater propellant \\'slosh\\' than expected, uncovering a fuel sensor. On subsequent missions, extra anti-slosh baffles were added to the tanks to prevent this.[4]\\n\\nThroughout the descent, Aldrin had called out navigation data to Armstrong, who was busy piloting the LM. A few moments before the landing, a light informed Aldrin that at least one of the 67-inch (170 cm) probes hanging from Eagle\\'s footpads had touched the surface, and he said: \"Contact light!\" Three seconds later, Eagle landed and Armstrong said \"Shutdown.\" Aldrin immediately said \"Okay, engine stop. ACA – out of detent.\" Armstrong acknowledged \"Out of detent. Auto\" and Aldrin continued \"Mode control – both auto. Descent engine command override off. Engine arm – off. 413 is in.\"\\n\\nCharles Duke, CAPCOM during the landing phase, acknowledged their landing by saying \"We copy you down, Eagle.\"\\n\\nArmstrong acknowledged Aldrin\\'s completion of the post landing checklist with \"Engine arm is off\", before responding to Duke with the words, \"Houston, Tranquility Base here. The Eagle has landed.\" Armstrong\\'s unrehearsed[31] change of call sign from \"Eagle\" to \"Tranquility Base\" emphasized to listeners that landing was complete and successful. Duke mispronounced his reply as he expressed the relief at Mission Control: \"Roger, Twan— Tranquility, we copy you on the ground. You got a bunch of guys about to turn blue. We\\'re breathing again. Thanks a lot.\"[4][32]\\n\\nTwo and a half hours after landing, before preparations began for the EVA, Aldrin radioed to Earth:\\n\\nThis is the LM pilot. I\\'d like to take this opportunity to ask every person listening in, whoever and wherever they may be, to pause for a moment and contemplate the events of the past few hours and to give thanks in his or her own way.[33]\\n\\nHe then took communion privately. At this time NASA was still fighting a lawsuit brought by atheist Madalyn Murray O\\'Hair (who had objected to the Apollo 8 crew reading from the Book of Genesis) demanding that their astronauts refrain from broadcasting religious activities while in space. As such, Aldrin chose to refrain from directly mentioning taking communion on the Moon. Aldrin was an elder at the Webster Presbyterian Church, and his communion kit was prepared by the pastor of the church, the Rev. Dean Woodruff. Aldrin described communion on the Moon and the involvement of his church and pastor in the October 1970 edition of Guideposts magazine and in his book Return to Earth. Webster Presbyterian possesses the chalice used on the Moon and commemorates the event each year on the Sunday closest to July 20.[34]\\n\\nThe schedule for the mission called for the astronauts to follow the landing with a five-hour sleep period as they had been awake since early morning. However, they elected to forgo the sleep period and begin the preparations for the EVA early, thinking that they would be unable to sleep.\\nThe astronauts planned placement of the Early Apollo Scientific Experiment Package (EASEP)[35] and the U.S. flag by studying their landing site through Eagle\\'s twin triangular windows, which gave them a 60° field of view. Preparation required longer than the two hours scheduled. Armstrong initially had some difficulties squeezing through the hatch with his Portable Life Support System (PLSS). According to veteran Moon-walker John Young, a redesign of the LM to incorporate a smaller hatch had not been followed by a redesign of the PLSS backpack, so some of the highest heart rates recorded from Apollo astronauts occurred during LM egress and ingress.[36][37]\\n\\nSeveral books indicate early mission timelines had Buzz Aldrin rather than Neil Armstrong as the first man on the Moon.[38]\\n\\nAt 02:39 UTC on Monday July 21, 1969, Armstrong opened the hatch, and at 02:51 UTC began his descent to the lunar surface. The Remote Control Unit controls on his chest kept him from seeing his feet. Climbing down the nine-rung ladder, Armstrong pulled a D-ring to deploy the Modular Equipment Stowage Assembly (MESA) folded against Eagle\\'s side and activate the TV camera, and at 02:56:15 UTC he set his left foot on the surface.[39][40] The first landing used slow-scan television incompatible with commercial TV, so it was displayed on a special monitor and a conventional TV camera viewed this monitor, significantly reducing the quality of the picture.[41] The signal was received at Goldstone in the United States but with better fidelity by Honeysuckle Creek Tracking Station in Australia. Minutes later the feed was switched to the more sensitive Parkes radio telescope in Australia.[42] Despite some technical and weather difficulties, ghostly black and white images of the first lunar EVA were received and broadcast to at least 600 million people on Earth.[43] Although copies of this video in broadcast format were saved and are widely available, recordings of the original slow scan source transmission from the lunar surface were accidentally destroyed during routine magnetic tape re-use at NASA.\\nWhile still on the ladder, Armstrong uncovered a plaque mounted on the LM descent stage bearing two drawings of Earth (of the Western and Eastern Hemispheres), an inscription, and signatures of the astronauts and President Nixon. The inscription read:\\n\\nHere men from the planet Earth first set foot upon the Moon, July 1969 A.D. We came in peace for all mankind.\\n\\nAfter describing the surface dust as \"very fine-grained\" and \"almost like a powder,\"[40] six and a half hours after landing,[3] Armstrong stepped off Eagle\\'s footpad and declared, \"That\\'s one small step for [a] man, one giant leap for mankind.\"[b][44][45][46][47]\\n\\nArmstrong intended to say \"That\\'s one small step for a man\", but the word \"a\" is not audible in the transmission, and thus was not initially reported by most observers of the live broadcast. When later asked about his quote, Armstrong said he believed he said \"for a man\", and subsequent printed versions of the quote included the \"a\" in square brackets. One explanation for the absence may be that his accent caused him to slur the words \"for a\" together; another is the intermittent nature of the audio and video links to Earth, partly because of storms near Parkes Observatory. More recent digital analysis of the tape claims to reveal the \"a\" may have been spoken but obscured by static.[48][49]\\nAbout seven minutes after stepping onto the Moon\\'s surface, Armstrong collected a contingency soil sample using a sample bag on a stick. He then folded the bag and tucked it into a pocket on his right thigh. This was to guarantee there would be some lunar soil brought back in case an emergency required the astronauts to abandon the EVA and return to the LM.[50]\\n\\nTwelve minutes after the contingency sample was collected,[3] Aldrin joined Armstrong on the surface, and described the view with the simple phrase, \"Magnificent desolation.\"[40]\\nIn addition to fulfilling President Kennedy\\'s mandate to land a man on the Moon before the end of the 1960s,[51] Apollo 11 was an engineering test of the Apollo system; therefore, Armstrong snapped photos of the LM so engineers would be able to judge its post-landing condition. He removed the TV camera from the MESA and made a panoramic sweep, then mounted it on a tripod 68 feet (21 m) from the LM. The TV camera cable remained partly coiled and presented a tripping hazard throughout the EVA.\\n\\nArmstrong said that moving in the lunar gravity, one-sixth of Earth\\'s, was \"even perhaps easier than the simulations ... It\\'s absolutely no trouble to walk around.\"[40] Aldrin joined him on the surface and tested methods for moving around, including two-footed kangaroo hops. The PLSS backpack created a tendency to tip backward, but neither astronaut had serious problems maintaining balance. Loping became the preferred method of movement. The astronauts reported that they needed to plan their movements six or seven steps ahead. The fine soil was quite slippery. Aldrin remarked that moving from sunlight into Eagle\\'s shadow produced no temperature change inside the suit, though the helmet was warmer in sunlight, so he felt cooler in shadow.[40]\\n\\nThe astronauts planted a specially designed U.S. flag on the lunar surface, in clear view of the TV camera. Sometime later, President Richard Nixon spoke to them through a telephone-radio transmission which Nixon called \"the most historic phone call ever made from the White House.\"[52] Nixon originally had a long speech prepared to read during the phone call, but Frank Borman, who was at the White House as a NASA liaison during Apollo 11, convinced Nixon to keep his words brief, to respect the lunar landing as Kennedy\\'s legacy.[53] Armstrong thanked the President, and gave a brief reflection on the significance of the moment:\\nNixon: Hello, Neil and Buzz. I\\'m talking to you by telephone from the Oval Room at the White House. And this certainly has to be the most historic telephone call ever made. I just can\\'t tell you how proud we all are of what you\\'ve done. For every American, this has to be the proudest day of our lives. And for people all over the world, I am sure they too join with Americans in recognizing what an immense feat this is. Because of what you have done, the heavens have become a part of man\\'s world. And as you talk to us from the Sea of Tranquility, it inspires us to redouble our efforts to bring peace and tranquility to Earth. For one priceless moment in the whole history of man, all the people on this Earth are truly one: one in their pride in what you have done, and one in our prayers that you will return safely to Earth.\\n\\nArmstrong: Thank you, Mr. President. It\\'s a great honor and privilege for us to be here, representing not only the United States, but men of peace of all nations, and with interest and curiosity, and men with a vision for the future. It\\'s an honor for us to be able to participate here today.\\n\\nThe MESA failed to provide a stable work platform and was in shadow, slowing work somewhat. As they worked, the moonwalkers kicked up gray dust which soiled the outer part of their suits, the integrated thermal meteoroid garment.\\n\\nThey deployed the EASEP, which included a passive seismograph and a Lunar Ranging Retroreflector (LRRR). Then Armstrong walked 196 feet (60 m) from the LM to snap photos at the rim of Little West Crater while Aldrin collected two core tubes. He used the geological hammer to pound in the tubes – the only time the hammer was used on Apollo 11. The astronauts then collected rock samples using scoops and tongs on extension handles. Many of the surface activities took longer than expected, so they had to stop documenting sample collection halfway through the allotted 34 minutes.\\n\\nThree new minerals were discovered in the rock samples collected by the astronauts: armalcolite, tranquillityite, and pyroxferroite. Armalcolite was named after Armstrong, Aldrin, and Collins.\\n\\nDuring this period, Mission Control used a coded phrase to warn Armstrong that his metabolic rates were high and that he should slow down. He was moving rapidly from task to task as time ran out. However, as metabolic rates remained generally lower than expected for both astronauts throughout the walk, Mission Control granted the astronauts a 15-minute extension.[54] In a 2010 interview, Armstrong, who had walked a maximum of 196 feet (60 m) from the LM, explained that NASA limited the first moonwalk\\'s time and distance because there was no empirical proof of how much cooling water the astronauts\\' PLSS backpacks would consume to handle their body heat generation while working on the Moon.[55]\\nAldrin entered Eagle first. With some difficulty the astronauts lifted film and two sample boxes containing 21.55 kilograms (47.5 lb) of lunar surface material to the LM hatch using a flat cable pulley device called the Lunar Equipment Conveyor. Armstrong reminded Aldrin of a bag of memorial items in his suit pocket sleeve, and Aldrin tossed the bag down; Armstrong then jumped to the ladder\\'s third rung and climbed into the LM. After transferring to LM life support, the explorers lightened the ascent stage for the return to lunar orbit by tossing out their PLSS backpacks, lunar overshoes, one Hasselblad camera, and other equipment. They then pressurized the LM and settled down to sleep.[56]\\n\\n    Wikisource has original text related to this article:\\nIn Event of Moon Disaster\\nPresident Nixon\\'s speech writer William Safire had prepared In Event of Moon Disaster for the President to read on television in the event the Apollo 11 astronauts were stranded on the Moon.[57] The contingency plan originated in a memo from Safire to Nixon\\'s White House Chief of Staff H. R. Haldeman, in which Safire suggested a protocol the administration might follow in reaction to such a disaster.[58][59] According to the plan, Mission Control would \"close down communications\" with the LM, and a clergyman would \"commend their souls to the deepest of the deep\" in a public ritual likened to burial at sea. The last line of the prepared text contained an allusion to Rupert Brooke\\'s First World War poem, \"The Soldier\".[59] The plan included presidential telephone calls to the astronauts\\' wives.\\n\\nWhile moving inside the cabin, Aldrin accidentally damaged the circuit breaker that would arm the main engine for lift off from the Moon. There was a concern this would prevent firing the engine, stranding them on the Moon. Fortunately, a felt-tip pen was sufficient to activate the switch.[56] Had this not worked, the Lunar Module circuitry could have been reconfigured to allow firing the ascent engine.\\n\\nAfter about seven hours of rest, the crew was awakened by Houston to prepare for the return flight. Two and a half hours later, at 17:54 UTC, they lifted off in Eagle\\'s ascent stage to rejoin Collins aboard Columbia in lunar orbit.\\n\\nAfter more than 21½ total hours on the lunar surface, they had left behind scientific instruments that included a retroreflector array used for the Lunar Laser Ranging Experiment and a Passive Seismic Experiment Package used to measure moonquakes. They also left an Apollo 1 mission patch, and a memorial bag containing a gold replica of an olive branch as a traditional symbol of peace and a silicon message disk. The disk carries the goodwill statements by Presidents Eisenhower, Kennedy, Johnson, and Nixon and messages from leaders of 73 countries around the world. The disc also carries a listing of the leadership of the US Congress, a listing of members of the four committees of the House and Senate responsible for the NASA legislation, and the names of NASA\\'s past and present top management.[60] (In his 1989 book, Men from Earth, Aldrin says that the items included Soviet medals commemorating Cosmonauts Vladimir Komarov and Yuri Gagarin.) Also, according to Deke Slayton\\'s book Moonshot, Armstrong carried with him a special diamond-studded astronaut pin from Slayton.\\nFilm taken from the LM Ascent Stage upon liftoff from the Moon reveals the American flag, planted some 25 feet (8 m) from the descent stage, whipping violently in the exhaust of the ascent stage engine. Aldrin looked up in time to witness the flag topple:[3] \"The ascent stage of the LM separated ... I was concentrating on the computers, and Neil was studying the attitude indicator, but I looked up long enough to see the flag fall over.\"[22] Subsequent Apollo missions usually planted the American flags at least 100 feet (30 m) from the LM to prevent them being blown over by the ascent engine exhaust.\\n\\nAfter rendezvous with Columbia, Eagle\\'s ascent stage was jettisoned into lunar orbit on July 21, 1969, at 23:41 UTC. Just before the Apollo 12 flight, it was noted that Eagle was still likely to be orbiting the Moon. Later NASA reports mentioned that Eagle\\'s orbit had decayed, resulting in it impacting in an \"uncertain location\" on the lunar surface.[61] The location is uncertain because the Eagle ascent stage was not tracked after it was jettisoned, and the lunar gravity field is sufficiently non-uniform to make the orbit of the spacecraft unpredictable after a short time. NASA estimated that the orbit had decayed within months and would have impacted on the Moon.\\n\\nOn July 23, the last night before splashdown, the three astronauts made a television broadcast in which Collins commented:\\n\\n... The Saturn V rocket which put us in orbit is an incredibly complicated piece of machinery, every piece of which worked flawlessly ... We have always had confidence that this equipment will work properly. All this is possible only through the blood, sweat, and tears of a number of a people ... All you see is the three of us, but beneath the surface are thousands and thousands of others, and to all of those, I would like to say, \"Thank you very much.\"\\n\\nAldrin added:\\n\\nThis has been far more than three men on a mission to the Moon; more, still, than the efforts of a government and industry team; more, even, than the efforts of one nation. We feel that this stands as a symbol of the insatiable curiosity of all mankind to explore the unknown ... Personally, in reflecting on the events of the past several days, a verse from Psalms comes to mind. \"When I consider the heavens, the work of Thy fingers, the Moon and the stars, which Thou hast ordained; What is man that Thou art mindful of him?\"\\n\\nArmstrong concluded:\\n\\nThe responsibility for this flight lies first with history and with the giants of science who have preceded this effort; next with the American people, who have, through their will, indicated their desire; next with four administrations and their Congresses, for implementing that will; and then, with the agency and industry teams that built our spacecraft, the Saturn, the Columbia, the Eagle, and the little EMU, the spacesuit and backpack that was our small spacecraft out on the lunar surface. We would like to give special thanks to all those Americans who built the spacecraft; who did the construction, design, the tests, and put their hearts and all their abilities into those craft. To those people tonight, we give a special thank you, and to all the other people that are listening and watching tonight, God bless you. Good night from Apollo 11.[22]\\n\\nOn the return to Earth, a bearing at the Guam tracking station failed, potentially preventing communication on the last segment of the Earth return. A regular repair was not possible in the available time but the station director, Charles Force, had his ten-year-old son Greg use his small hands to reach into the housing and pack it with grease. Greg later was thanked by Armstrong.[62]\\n\\nSplashdown and quarantine\\n\\nColumbia floats on the ocean as Navy divers assist in retrieving the astronauts\\n\\nThe astronauts in their Biological Isolation Garments aboard the USS Hornet\\nOn July 24, the astronauts returned home aboard the Command Module Columbia just before dawn local time (16:51 UTC[3]) at 13°19′N 169°9′W, in the Pacific Ocean 2,660 km (1,440 nmi) east of Wake Island, 380 km (210 nmi) south of Johnston Atoll, and 24 km (13 nmi) from the recovery ship, USS Hornet.[3] This is near the village of Vatia in American Samoa.[63] The American Samoa-flag which was brought to the moon by Apollo 11 is on display at the Jean P. Haydon Museum in Pago Pago, the territorial capital of American Samoa.[64]\\n\\nAt 16:44 UTC the drogue parachutes had been deployed and seven minutes later the Command Module struck the water forcefully. During splashdown, the Command Module landed upside down but was righted within 10 minutes by flotation bags triggered by the astronauts. \"Everything\\'s okay. Our checklist is complete. Awaiting swimmers\", was Armstrong\\'s last official transmission from Columbia. A diver from the Navy helicopter hovering above attached a sea anchor to the Command Module to prevent it from drifting. Additional divers attached flotation collars to stabilize the module and position rafts for astronaut extraction. Though the chance of bringing back pathogens from the lunar surface was considered remote, it was considered a possibility and NASA took great precautions at the recovery site. Divers provided the astronauts with Biological Isolation Garments (BIGs) which were worn until they reached isolation facilities on board the Hornet. Additionally, astronauts were rubbed down with a sodium hypochlorite solution and the Command Module wiped with Betadine to remove any lunar dust that might be present. The raft containing decontamination materials was then intentionally sunk.[65]\\n\\nA second Sea King helicopter - \"Helicopter 66\" - hoisted the astronauts aboard one by one, where a NASA flight surgeon gave each a brief physical check during the 0.5 nautical miles (930 m) trip back to the Hornet.\\n\\n\\nThe crew of Apollo 11 in quarantine after returning to Earth, visited by Richard Nixon\\nAfter touchdown on the Hornet, the astronauts exited the helicopter, leaving the flight surgeon and three crewmen. The helicopter was then lowered into hangar bay #2 where the astronauts walked the 30 feet (9.1 m) to the Mobile Quarantine Facility (MQF) where they would begin the earth-based portion of their 21 days of quarantine.[66] This practice would continue for two more Apollo missions, Apollo 12 and Apollo 14, before the Moon was proven to be barren of life and the quarantine process dropped.[65][67]\\n\\nPresident Richard Nixon was aboard Hornet to personally welcome the astronauts back to Earth. He told the astronauts, \"As a result of what you\\'ve done, the world has never been closer together before.\"[68] After Nixon departed, the Hornet was brought alongside the five-ton Command Module where it was placed aboard by the ship\\'s crane, placed on a dolly and moved next to the MQF. The Hornet sailed for Pearl Harbor where Columbia and the MQF were airlifted to the Manned Spacecraft Center.[65]\\n\\nIn accordance with the Extra-Terrestrial Exposure Law, a set of regulations promulgated by NASA on July 16[69] to codify its quarantine protocol, the astronauts continued in quarantine out of concern that the Moon might contain undiscovered pathogens and that the astronauts might have been exposed to them during their Moon walks. However, after three weeks in confinement (first in the Apollo spacecraft, then in their trailer on the Hornet, and finally in the Lunar Receiving Laboratory at the Manned Spacecraft Center), the astronauts were given a clean bill of health.[70] On August 10, 1969, the Interagency Committee on Back Contamination met in Atlanta and lifted the quarantine on the astronauts, on those who had joined them in quarantine (NASA physician William Carpentier and MQF project engineer John Hirasaki[71]), and on Columbia itself.[72] Loose equipment from the spacecraft would remain in isolation until the lunar samples were released for study.[72]\\n\\nCelebration\\n\\nParade in New York City\\nOn August 13, they rode in parades in their honor in New York, Chicago, and Los Angeles.[73][74] On the same evening in Los Angeles there was an official State Dinner to celebrate the flight, attended by members of Congress, 44 governors, the Chief Justice of the United States, and ambassadors from 83 nations at the Century Plaza Hotel.[74] President Richard Nixon and Vice President Spiro T. Agnew honored each astronaut with a presentation of the Presidential Medal of Freedom.[74] This celebration was the beginning of a 45-day \"Giant Leap\" tour that brought the astronauts to 25 foreign countries and included visits with prominent leaders such as Queen Elizabeth II of the United Kingdom. Many nations honored the first manned Moon landing with special features in magazines or by issuing Apollo 11 commemorative postage stamps or coins.[75][76]\\n\\nOn September 16, 1969, the three astronauts spoke before a joint session of Congress on Capitol Hill. They presented two US flags, one to the House of Representatives and the other to the Senate, that had been carried to the surface of the Moon with them.[77]\\n\\nMoon race\\n\\nArtist\\'s impression of Luna 15\\nThe Soviet Union had been competing with the US in landing a man on the Moon but had been hampered by repeated failures in development of a launcher comparable to the Saturn V.[78] Meanwhile, they tried to beat the US to return lunar material to the Earth by means of unmanned probes. On July 13, three days before Apollo 11\\'s launch, they launched Luna 15, which reached lunar orbit before Apollo 11. During descent, a malfunction caused Luna 15 to crash in Mare Crisium about two hours before Armstrong and Aldrin took off from the Moon\\'s surface to begin their voyage home. The Jodrell Bank Observatory radio telescope in England was later discovered to have recorded transmissions from Luna 15 during its descent, and this was published in July 2009 on the 40th anniversary of Apollo 11.[79]\\n\\nLegacy\\nSpacecraft location\\n\\nCommand Module Columbia at the National Air and Space Museum\\n\\nLunar Module landing site photographed by the LRO in 2012\\nThe Command Module Columbia was displayed at the National Air and Space Museum (NASM), Washington, D.C. It was in the central Milestones of Flight exhibition hall in front of the Jefferson Drive entrance, sharing the main hall with other pioneering flight vehicles such as the Wright Flyer, the Spirit of St. Louis, the Bell X-1, the North American X-15, Mercury spacecraft Friendship 7, and Gemini 4. Armstrong\\'s and Aldrin\\'s space suits are displayed in the museum\\'s Apollo to the Moon exhibit. The quarantine trailer, the flotation collar, and the righting spheres are displayed at the Smithsonian\\'s Steven F. Udvar-Hazy Center annex near Washington Dulles International Airport in Chantilly, Virginia.\\n\\nIn 2009, the Lunar Reconnaissance Orbiter (LRO) imaged the various Apollo landing sites on the surface of the Moon, for the first time with sufficient resolution to see the descent stages of the lunar modules, scientific instruments, and foot trails made by the astronauts.\\n\\nIn March 2012 a team of specialists financed by Amazon founder Jeff Bezos located the F-1 engines that launched Apollo 11 into space. The engines were found below the Atlantic Ocean\\'s surface through the use of advanced sonar scanning.[80] His team brought parts of two of the five engines to the surface. In July 2013, a conservator discovered a serial number under the rust on one of the engines raised from the Atlantic, which NASA confirmed was from the Apollo 11 launch.[81][82]\\n\\n\\nCommand Module Columbia at the Mary Baker Engen Restoration Hangar\\nColumbia was moved in 2017 to the NASM Mary Baker Engen Restoration Hangar at the Steven F. Udvar-Hazy Center in Chantilly, Virginia, to be readied for a four-city tour titled Destination Moon: The Apollo 11 Mission. This will include Space Center Houston (October 14, 2017 to March 18, 2018), the Saint Louis Science Center (April 14 to September 3, 2018), the Senator John Heinz History Center in Pittsburgh (September 29, 2018 to February 18, 2019), and the Seattle Museum of Flight (March 16 to September 2, 2019).[83][84]'"
      ]
     },
     "execution_count": 4,
     "metadata": {},
     "output_type": "execute_result"
    }
   ],
   "source": [
    "with open('data/apollo11.txt') as f:\n",
    "    contents = f.read()\n",
    "contents"
   ]
  },
  {
   "cell_type": "code",
   "execution_count": 5,
   "metadata": {
    "collapsed": true
   },
   "outputs": [],
   "source": [
    "doc = nlp(contents)"
   ]
  },
  {
   "cell_type": "code",
   "execution_count": 78,
   "metadata": {
    "collapsed": false
   },
   "outputs": [],
   "source": [
    "sentences = list((sent.text for sent in doc.sents))"
   ]
  },
  {
   "cell_type": "code",
   "execution_count": 80,
   "metadata": {
    "collapsed": false
   },
   "outputs": [
    {
     "data": {
      "text/plain": [
       "'Apollo 11 was the spaceflight that landed the first two humans on the Moon.'"
      ]
     },
     "execution_count": 80,
     "metadata": {},
     "output_type": "execute_result"
    }
   ],
   "source": [
    "first = sentences[0]\n",
    "first"
   ]
  },
  {
   "cell_type": "code",
   "execution_count": 81,
   "metadata": {
    "collapsed": false
   },
   "outputs": [
    {
     "data": {
      "text/plain": [
       "['Apollo 11 was the spaceflight that landed the first two humans on the Moon.',\n",
       " 'Mission commander Neil Armstrong and pilot Buzz Aldrin, both American, landed the lunar module Eagle on July 20, 1969, at 20:18 UTC.',\n",
       " 'Armstrong became the first human to step onto the lunar surface six hours after landing on July 21 at 02:56:15 UTC; Aldrin joined him about 20 minutes later.']"
      ]
     },
     "execution_count": 81,
     "metadata": {},
     "output_type": "execute_result"
    }
   ],
   "source": [
    "sentences[:3]"
   ]
  },
  {
   "cell_type": "code",
   "execution_count": 82,
   "metadata": {
    "collapsed": false
   },
   "outputs": [
    {
     "data": {
      "text/plain": [
       "[(0,\n",
       "  'Apollo 11 was the spaceflight that landed the first two humans on the Moon.'),\n",
       " (1,\n",
       "  'Mission commander Neil Armstrong and pilot Buzz Aldrin, both American, landed the lunar module Eagle on July 20, 1969, at 20:18 UTC.'),\n",
       " (2,\n",
       "  'Armstrong became the first human to step onto the lunar surface six hours after landing on July 21 at 02:56:15 UTC; Aldrin joined him about 20 minutes later.')]"
      ]
     },
     "execution_count": 82,
     "metadata": {},
     "output_type": "execute_result"
    }
   ],
   "source": [
    "sentences = list(enumerate(sentences))\n",
    "sentences[:3]"
   ]
  },
  {
   "cell_type": "code",
   "execution_count": 83,
   "metadata": {
    "collapsed": false
   },
   "outputs": [],
   "source": [
    "def dd():\n",
    "    return defaultdict(list)\n",
    "\n",
    "qna = defaultdict(dd)"
   ]
  },
  {
   "cell_type": "code",
   "execution_count": 85,
   "metadata": {
    "collapsed": false
   },
   "outputs": [],
   "source": [
    "answers = [[]]\n",
    "questions = [[]]\n",
    "\n",
    "questions[0] = [\"What mission landed the first people on the Moon?\"]\n",
    "answers[0] = [\"The Apollo 11 mission landed the first people on the Moon.\"]\n",
    "              \n",
    "qna[sentences[0]] = list(zip(questions[0],answers[0]))   \n",
    "\n",
    "\n",
    "questions.append([\"Was Neil Armstrong from America?\",\n",
    "                \"Was Buzz Aldrin from America?\",\n",
    "                \"Was Buzz Aldrin a pilot?\",\n",
    "                \"Was Buzz Aldrin the pilot of the lunar module Eagle?\",\n",
    "                \"Was Neil Armstrong the mission commander of Apollo 11?\",\n",
    "                \"Did Buzz Aldrin land on the Moon?\",\n",
    "                \"Did Neil Armstrong land on the Moon?\"\n",
    "               ])\n",
    "\n",
    "answers.append([\"Yes, Neil Armstrong was American\",\n",
    "             \"Yes, Buzz Aldrin was American\",\n",
    "             \"Yes, Buzz Aldrin was a pilot\",\n",
    "             \"Yes, Buzz Aldrin was the pilot of the lunar module Eagle\",\n",
    "             \"Yes, Neil Armstrong was the mission commander of Apollo 11\",\n",
    "             \"Yes, Buzz Aldrin landed on the Moon\",\n",
    "             \"Yes, Neil Armstrong landed on the Moon\"\n",
    "             ])\n",
    "qna[sentences[1]] = list(zip(questions[1],answers[1]))"
   ]
  },
  {
   "cell_type": "code",
   "execution_count": 38,
   "metadata": {
    "collapsed": false
   },
   "outputs": [],
   "source": []
  },
  {
   "cell_type": "code",
   "execution_count": 86,
   "metadata": {
    "collapsed": false
   },
   "outputs": [
    {
     "data": {
      "text/plain": [
       "defaultdict(<function __main__.dd>,\n",
       "            {(0,\n",
       "              'Apollo 11 was the spaceflight that landed the first two humans on the Moon.'): [('What mission landed the first people on the Moon?',\n",
       "               'The Apollo 11 mission landed the first people on the Moon.')],\n",
       "             (1,\n",
       "              'Mission commander Neil Armstrong and pilot Buzz Aldrin, both American, landed the lunar module Eagle on July 20, 1969, at 20:18 UTC.'): [('Was Neil Armstrong from America?',\n",
       "               'Yes, Neil Armstrong was American'),\n",
       "              ('Was Buzz Aldrin from America?',\n",
       "               'Yes, Buzz Aldrin was American'),\n",
       "              ('Was Buzz Aldrin a pilot?', 'Yes, Buzz Aldrin was a pilot'),\n",
       "              ('Was Buzz Aldrin the pilot of the lunar module Eagle?',\n",
       "               'Yes, Buzz Aldrin was the pilot of the lunar module Eagle'),\n",
       "              ('Was Neil Armstrong the mission commander of Apollo 11?',\n",
       "               'Yes, Neil Armstrong was the mission commander of Apollo 11'),\n",
       "              ('Did Buzz Aldrin land on the Moon?',\n",
       "               'Yes, Buzz Aldrin landed on the Moon'),\n",
       "              ('Did Neil Armstrong land on the Moon?',\n",
       "               'Yes, Neil Armstrong landed on the Moon')]})"
      ]
     },
     "execution_count": 86,
     "metadata": {},
     "output_type": "execute_result"
    }
   ],
   "source": [
    "qna"
   ]
  },
  {
   "cell_type": "code",
   "execution_count": 87,
   "metadata": {
    "collapsed": false
   },
   "outputs": [],
   "source": [
    "questions.append([\"Who was the first person to walk on the Moon?\",\n",
    "                \"Who was the second person to walk on the Moon?\",\n",
    "                \"How long after landing did Neil Armstrong walk on the Moon?\",\n",
    "                \"How long after landing did Neil Armstrong walk on the Moon?\",\n",
    "               \"How long after Neil Armstrong walked on the Moon did Buzz Aldrin join him?\"]\n",
    "                )\n",
    "\n",
    "answers.append([\"Neil Armstrong was the first person to walk on the Moon.\",\n",
    "             \"Buzz Aldrin was the second person to walk on the Moon.\",\n",
    "            \"Neil Armstrong walked on the Moon six hours after landing.\",\n",
    "            \"Buzz Aldrin walked on the Moon six hours and twenty minutes after landing.\",\n",
    "            \"Buzz Aldrin joined Neil Armstrong on the Moon about twenty minutes after Neil did.\"]\n",
    "              )\n",
    "qna[sentences[2]] = list(zip(questions[2], answers[2]))"
   ]
  },
  {
   "cell_type": "code",
   "execution_count": 88,
   "metadata": {
    "collapsed": false
   },
   "outputs": [],
   "source": [
    "questions.append([\"How much time did Buzz Aldrin and Neil Armstrong spend together outside the lunar module?\",\n",
    "                \"How much time did Buzz Aldrin and Neil Armstrong spend together walking on the Moon?\",\n",
    "               \"How many pounds of lunar rocks did Apollo 11 bring back to Earth?\",\n",
    "                \"How many pounds of lunar material did Neil Amstrong and Buzz Aldrin bring back to Earth?\",\n",
    "                \"\"])\n",
    "\n",
    "answers.append([\"Buzz Aldrin and Neil Armstrong spent about two hours and fifteen minutes together outside the lunar module.\",\n",
    "             \"Buzz Aldrin and Neil Armstrong spent about two hours and fifteen minutes together walking on the Moon.\",\n",
    "                \"Apollo 11 brought about 47 pounds of rocks back to Earth.\",\n",
    "                \"They brought about 47 pounds of rocks back to Earth.\",\n",
    "                \"\"])\n",
    "qna[sentences[3]] = list(zip(questions[3], answers[3]))"
   ]
  },
  {
   "cell_type": "code",
   "execution_count": 92,
   "metadata": {
    "collapsed": false
   },
   "outputs": [],
   "source": [
    "questions.append([\"Did Michael Collins walk on the Moon?\",\n",
    "                 \"Did Michael Collins pilot the command module Columbia?\"])\n",
    "\n",
    "answers.append([\"No, Michael Collins did not walk on the Moon. He stayed in lunar orbit.\",\n",
    "               \"Yes, Michael Collins piloted the command module Columbia?\"])\n",
    "qna[sentences[4]] = list(zip(questions[4], answers[4]))"
   ]
  },
  {
   "cell_type": "code",
   "execution_count": 93,
   "metadata": {
    "collapsed": false
   },
   "outputs": [
    {
     "data": {
      "text/plain": [
       "(4,\n",
       " \"Michael Collins piloted the command module Columbia alone in lunar orbit while they were on the Moon's surface.\")"
      ]
     },
     "execution_count": 93,
     "metadata": {},
     "output_type": "execute_result"
    }
   ],
   "source": [
    "sentences[4]"
   ]
  },
  {
   "cell_type": "code",
   "execution_count": 95,
   "metadata": {
    "collapsed": false
   },
   "outputs": [
    {
     "data": {
      "text/plain": [
       "(5,\n",
       " 'Armstrong and Aldrin spent just under a day on the lunar surface before rejoining Columbia in lunar orbit.\\n\\n')"
      ]
     },
     "execution_count": 95,
     "metadata": {},
     "output_type": "execute_result"
    }
   ],
   "source": [
    "sentences[5]"
   ]
  },
  {
   "cell_type": "code",
   "execution_count": 97,
   "metadata": {
    "collapsed": true
   },
   "outputs": [],
   "source": [
    "questions.append([\"How long did Neil Armstrong and Buzz Aldrin spend on the Moon?\"])\n",
    "\n",
    "answers.append([\"Neil Armstrong and Buzz Aldrin spent just under a day on the Moon. Most of that time was spend inside the lunar module.\"])\n",
    "qna[sentences[5]] = [list(zip(questions[5], answers[5]))]"
   ]
  },
  {
   "cell_type": "code",
   "execution_count": 98,
   "metadata": {
    "collapsed": false
   },
   "outputs": [
    {
     "data": {
      "text/plain": [
       "(6,\n",
       " \"Apollo 11 was launched by a Saturn V rocket from Kennedy Space Center on Merritt Island, Florida, on July 16 at 9:32 am EDT (13:32 UTC) and was the fifth manned mission of NASA's Apollo program.\")"
      ]
     },
     "execution_count": 98,
     "metadata": {},
     "output_type": "execute_result"
    }
   ],
   "source": [
    "sentences[6]"
   ]
  },
  {
   "cell_type": "code",
   "execution_count": 99,
   "metadata": {
    "collapsed": true
   },
   "outputs": [],
   "source": [
    "questions.append([\"What type of rocket launched Apollo 11?\",\n",
    "                 \"Where did Apollo 11 launch from?\",\n",
    "                 \"When did Apollo 11 launch?\"])\n",
    "\n",
    "answers.append([\"Apollo 11 was launched by a Saturn V rocket.\",\n",
    "               \"Apollo 11 launched from Kennedy Space Center in Florida.\",\n",
    "               \"Apollo 11 launched on July 16th at 9:32 am eastern daylight time.\"])\n",
    "qna[sentences[6]] = list(zip(questions[6], answers[6]))"
   ]
  },
  {
   "cell_type": "code",
   "execution_count": 100,
   "metadata": {
    "collapsed": false
   },
   "outputs": [
    {
     "data": {
      "text/plain": [
       "(7,\n",
       " 'The Apollo spacecraft had three parts: a command module (CM) with a cabin for the three astronauts, and the only part that returned to Earth; a service module (SM), which supported the command module with propulsion, electrical power, oxygen, and water; and a lunar module (LM) that had two stages – a descent stage for landing on the Moon, and an ascent stage to place the astronauts back into lunar orbit.\\n\\n')"
      ]
     },
     "execution_count": 100,
     "metadata": {},
     "output_type": "execute_result"
    }
   ],
   "source": [
    "sentences[7]"
   ]
  },
  {
   "cell_type": "code",
   "execution_count": 101,
   "metadata": {
    "collapsed": true
   },
   "outputs": [],
   "source": [
    "questions.append([\"What were the three parts of the Apollo 11 spacecraft?\",\n",
    "                 \"What part of the Apollo spacecraft returned to Earth?\",\n",
    "                 \"How many stages did the lunar module have?\",\n",
    "                 \"Name the stages of the lunar module.\"])\n",
    "\n",
    "answers.append([\"The three parts of the Apollo 11 spacecraft were the command module, the service module, and the lunar module.\",\n",
    "               \"The command module returned to Earth.\",\n",
    "                \"The lunar module had two stages.\"\n",
    "               \"The lunar module had two stages, one for landing on the Moon and the other for returning back to the command module.\"])\n",
    "qna[sentences[7]] = list(zip(questions[7], answers[7]))"
   ]
  },
  {
   "cell_type": "code",
   "execution_count": 102,
   "metadata": {
    "collapsed": true
   },
   "outputs": [],
   "source": [
    "data = {'qna':qna,'questions':questions, 'answers':answers}"
   ]
  },
  {
   "cell_type": "code",
   "execution_count": 105,
   "metadata": {
    "collapsed": false
   },
   "outputs": [],
   "source": [
    "with open('apollo11-qna.pickle', 'wb') as f:\n",
    "    pickle.dump(data,f)"
   ]
  },
  {
   "cell_type": "code",
   "execution_count": 106,
   "metadata": {
    "collapsed": false
   },
   "outputs": [
    {
     "name": "stdout",
     "output_type": "stream",
     "text": [
      "apollo11-qna.pickle chatdata.pkl        data.pickle         qna.pkl\r\n",
      "chatbot1.ipynb      \u001b[34mdata\u001b[m\u001b[m                qna.pickle\r\n"
     ]
    }
   ],
   "source": [
    "!ls"
   ]
  },
  {
   "cell_type": "code",
   "execution_count": 107,
   "metadata": {
    "collapsed": true
   },
   "outputs": [],
   "source": [
    "! rm *.pkl"
   ]
  },
  {
   "cell_type": "code",
   "execution_count": 108,
   "metadata": {
    "collapsed": false
   },
   "outputs": [
    {
     "name": "stdout",
     "output_type": "stream",
     "text": [
      "apollo11-qna.pickle \u001b[34mdata\u001b[m\u001b[m                qna.pickle\r\n",
      "chatbot1.ipynb      data.pickle\r\n"
     ]
    }
   ],
   "source": [
    "!ls"
   ]
  },
  {
   "cell_type": "code",
   "execution_count": 109,
   "metadata": {
    "collapsed": true
   },
   "outputs": [],
   "source": [
    "! rm data.pickle qna.pickle "
   ]
  },
  {
   "cell_type": "code",
   "execution_count": 111,
   "metadata": {
    "collapsed": false
   },
   "outputs": [
    {
     "name": "stdout",
     "output_type": "stream",
     "text": [
      "apollo11-qna.pickle chatbot1.ipynb      \u001b[34mdata\u001b[m\u001b[m\r\n"
     ]
    }
   ],
   "source": [
    "!ls"
   ]
  },
  {
   "cell_type": "code",
   "execution_count": null,
   "metadata": {
    "collapsed": true
   },
   "outputs": [],
   "source": []
  }
 ],
 "metadata": {
  "kernelspec": {
   "display_name": "Python 3",
   "language": "python",
   "name": "python3"
  },
  "language_info": {
   "codemirror_mode": {
    "name": "ipython",
    "version": 3
   },
   "file_extension": ".py",
   "mimetype": "text/x-python",
   "name": "python",
   "nbconvert_exporter": "python",
   "pygments_lexer": "ipython3",
   "version": "3.6.0"
  }
 },
 "nbformat": 4,
 "nbformat_minor": 2
}
